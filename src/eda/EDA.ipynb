{
 "cells": [
  {
   "cell_type": "code",
   "execution_count": 1,
   "metadata": {},
   "outputs": [],
   "source": [
    "import pandas as pd\n",
    "from tqdm.auto import tqdm\n",
    "\n",
    "from pathlib import Path\n",
    "\n",
    "# always look for the latest csv file\n",
    "csv_files = sorted(list(Path(\"../../data/processed\").glob(\"*.csv\")))\n"
   ]
  },
  {
   "cell_type": "code",
   "execution_count": 2,
   "metadata": {},
   "outputs": [],
   "source": [
    "\n",
    "df = pd.read_csv(csv_files[-1])"
   ]
  },
  {
   "cell_type": "code",
   "execution_count": 3,
   "metadata": {},
   "outputs": [
    {
     "data": {
      "text/plain": [
       "StudentID               0\n",
       "Attempted               0\n",
       "Full                    0\n",
       "Age                     0\n",
       "Dev                     0\n",
       "Internet                0\n",
       "PercentageOfRepeats     0\n",
       "PercentageOfHistDrop    0\n",
       "TermCode                0\n",
       "MajorChangedFromLast    0\n",
       "NumberOfMajors          0\n",
       "NumberOfUniqueMajors    0\n",
       "CumGPALast              0\n",
       "PercentageOfAbsence     0\n",
       "Ethnicity               0\n",
       "Gender                  0\n",
       "IsHispanic              0\n",
       "Target                  0\n",
       "dtype: int64"
      ]
     },
     "execution_count": 3,
     "metadata": {},
     "output_type": "execute_result"
    }
   ],
   "source": [
    "# get number of null values for each column\n",
    "df.isnull().sum()"
   ]
  },
  {
   "cell_type": "code",
   "execution_count": 4,
   "metadata": {},
   "outputs": [
    {
     "data": {
      "text/html": [
       "<div>\n",
       "<style scoped>\n",
       "    .dataframe tbody tr th:only-of-type {\n",
       "        vertical-align: middle;\n",
       "    }\n",
       "\n",
       "    .dataframe tbody tr th {\n",
       "        vertical-align: top;\n",
       "    }\n",
       "\n",
       "    .dataframe thead th {\n",
       "        text-align: right;\n",
       "    }\n",
       "</style>\n",
       "<table border=\"1\" class=\"dataframe\">\n",
       "  <thead>\n",
       "    <tr style=\"text-align: right;\">\n",
       "      <th></th>\n",
       "      <th>StudentID</th>\n",
       "      <th>Attempted</th>\n",
       "      <th>Full</th>\n",
       "      <th>Age</th>\n",
       "      <th>Dev</th>\n",
       "      <th>Internet</th>\n",
       "      <th>PercentageOfRepeats</th>\n",
       "      <th>PercentageOfHistDrop</th>\n",
       "      <th>TermCode</th>\n",
       "      <th>MajorChangedFromLast</th>\n",
       "      <th>NumberOfMajors</th>\n",
       "      <th>NumberOfUniqueMajors</th>\n",
       "      <th>CumGPALast</th>\n",
       "      <th>PercentageOfAbsence</th>\n",
       "      <th>Ethnicity</th>\n",
       "      <th>Gender</th>\n",
       "      <th>IsHispanic</th>\n",
       "      <th>Target</th>\n",
       "    </tr>\n",
       "  </thead>\n",
       "  <tbody>\n",
       "    <tr>\n",
       "      <th>0</th>\n",
       "      <td>101000642</td>\n",
       "      <td>6.0</td>\n",
       "      <td>0</td>\n",
       "      <td>26.0</td>\n",
       "      <td>0</td>\n",
       "      <td>2</td>\n",
       "      <td>0.00</td>\n",
       "      <td>0.142857</td>\n",
       "      <td>B17C</td>\n",
       "      <td>0</td>\n",
       "      <td>5</td>\n",
       "      <td>1</td>\n",
       "      <td>1.6857</td>\n",
       "      <td>0.0</td>\n",
       "      <td>White, Non-Hispanic</td>\n",
       "      <td>Female</td>\n",
       "      <td>No</td>\n",
       "      <td>0</td>\n",
       "    </tr>\n",
       "    <tr>\n",
       "      <th>1</th>\n",
       "      <td>101001184</td>\n",
       "      <td>16.0</td>\n",
       "      <td>1</td>\n",
       "      <td>27.0</td>\n",
       "      <td>0</td>\n",
       "      <td>0</td>\n",
       "      <td>0.25</td>\n",
       "      <td>0.000000</td>\n",
       "      <td>B17C</td>\n",
       "      <td>0</td>\n",
       "      <td>3</td>\n",
       "      <td>1</td>\n",
       "      <td>2.6000</td>\n",
       "      <td>0.0</td>\n",
       "      <td>White, Non-Hispanic</td>\n",
       "      <td>Female</td>\n",
       "      <td>No</td>\n",
       "      <td>0</td>\n",
       "    </tr>\n",
       "    <tr>\n",
       "      <th>2</th>\n",
       "      <td>101001184</td>\n",
       "      <td>10.0</td>\n",
       "      <td>0</td>\n",
       "      <td>28.0</td>\n",
       "      <td>1</td>\n",
       "      <td>0</td>\n",
       "      <td>0.00</td>\n",
       "      <td>0.000000</td>\n",
       "      <td>B18Q</td>\n",
       "      <td>1</td>\n",
       "      <td>5</td>\n",
       "      <td>2</td>\n",
       "      <td>2.4286</td>\n",
       "      <td>0.0</td>\n",
       "      <td>White, Non-Hispanic</td>\n",
       "      <td>Female</td>\n",
       "      <td>No</td>\n",
       "      <td>0</td>\n",
       "    </tr>\n",
       "    <tr>\n",
       "      <th>3</th>\n",
       "      <td>101001184</td>\n",
       "      <td>6.0</td>\n",
       "      <td>0</td>\n",
       "      <td>30.0</td>\n",
       "      <td>0</td>\n",
       "      <td>2</td>\n",
       "      <td>0.00</td>\n",
       "      <td>0.000000</td>\n",
       "      <td>B20Q</td>\n",
       "      <td>1</td>\n",
       "      <td>7</td>\n",
       "      <td>3</td>\n",
       "      <td>2.1346</td>\n",
       "      <td>0.0</td>\n",
       "      <td>White, Non-Hispanic</td>\n",
       "      <td>Female</td>\n",
       "      <td>No</td>\n",
       "      <td>0</td>\n",
       "    </tr>\n",
       "    <tr>\n",
       "      <th>4</th>\n",
       "      <td>101001184</td>\n",
       "      <td>12.0</td>\n",
       "      <td>1</td>\n",
       "      <td>31.0</td>\n",
       "      <td>0</td>\n",
       "      <td>0</td>\n",
       "      <td>0.00</td>\n",
       "      <td>0.000000</td>\n",
       "      <td>B21Q</td>\n",
       "      <td>0</td>\n",
       "      <td>10</td>\n",
       "      <td>3</td>\n",
       "      <td>1.9138</td>\n",
       "      <td>0.0</td>\n",
       "      <td>White, Non-Hispanic</td>\n",
       "      <td>Female</td>\n",
       "      <td>No</td>\n",
       "      <td>0</td>\n",
       "    </tr>\n",
       "  </tbody>\n",
       "</table>\n",
       "</div>"
      ],
      "text/plain": [
       "   StudentID  Attempted  Full   Age  Dev  Internet  PercentageOfRepeats  \\\n",
       "0  101000642        6.0     0  26.0    0         2                 0.00   \n",
       "1  101001184       16.0     1  27.0    0         0                 0.25   \n",
       "2  101001184       10.0     0  28.0    1         0                 0.00   \n",
       "3  101001184        6.0     0  30.0    0         2                 0.00   \n",
       "4  101001184       12.0     1  31.0    0         0                 0.00   \n",
       "\n",
       "   PercentageOfHistDrop TermCode  MajorChangedFromLast  NumberOfMajors  \\\n",
       "0              0.142857     B17C                     0               5   \n",
       "1              0.000000     B17C                     0               3   \n",
       "2              0.000000     B18Q                     1               5   \n",
       "3              0.000000     B20Q                     1               7   \n",
       "4              0.000000     B21Q                     0              10   \n",
       "\n",
       "   NumberOfUniqueMajors  CumGPALast  PercentageOfAbsence            Ethnicity  \\\n",
       "0                     1      1.6857                  0.0  White, Non-Hispanic   \n",
       "1                     1      2.6000                  0.0  White, Non-Hispanic   \n",
       "2                     2      2.4286                  0.0  White, Non-Hispanic   \n",
       "3                     3      2.1346                  0.0  White, Non-Hispanic   \n",
       "4                     3      1.9138                  0.0  White, Non-Hispanic   \n",
       "\n",
       "   Gender IsHispanic  Target  \n",
       "0  Female         No       0  \n",
       "1  Female         No       0  \n",
       "2  Female         No       0  \n",
       "3  Female         No       0  \n",
       "4  Female         No       0  "
      ]
     },
     "execution_count": 4,
     "metadata": {},
     "output_type": "execute_result"
    }
   ],
   "source": [
    "df.head()"
   ]
  },
  {
   "cell_type": "code",
   "execution_count": 5,
   "metadata": {},
   "outputs": [
    {
     "data": {
      "application/vnd.jupyter.widget-view+json": {
       "model_id": "5c6ea03d6a5e4ccd878b34a60251e6d2",
       "version_major": 2,
       "version_minor": 0
      },
      "text/plain": [
       "Summarize dataset:   0%|          | 0/5 [00:00<?, ?it/s]"
      ]
     },
     "metadata": {},
     "output_type": "display_data"
    },
    {
     "data": {
      "application/vnd.jupyter.widget-view+json": {
       "model_id": "f907afdf962242968f17149ec32bb203",
       "version_major": 2,
       "version_minor": 0
      },
      "text/plain": [
       "Generate report structure:   0%|          | 0/1 [00:00<?, ?it/s]"
      ]
     },
     "metadata": {},
     "output_type": "display_data"
    },
    {
     "data": {
      "application/vnd.jupyter.widget-view+json": {
       "model_id": "dd9c45c1e4ee408fbbe956c4087dd740",
       "version_major": 2,
       "version_minor": 0
      },
      "text/plain": [
       "Render HTML:   0%|          | 0/1 [00:00<?, ?it/s]"
      ]
     },
     "metadata": {},
     "output_type": "display_data"
    },
    {
     "data": {
      "application/vnd.jupyter.widget-view+json": {
       "model_id": "d16e5300fa7e43dc8d2f3c3b98b03b4f",
       "version_major": 2,
       "version_minor": 0
      },
      "text/plain": [
       "Export report to file:   0%|          | 0/1 [00:00<?, ?it/s]"
      ]
     },
     "metadata": {},
     "output_type": "display_data"
    }
   ],
   "source": [
    "import pandas_profiling\n",
    "\n",
    "profile = df.profile_report(title=\"Pandas Profiling Report\")\n",
    "profile.to_file(\"eda.html\")\n"
   ]
  }
 ],
 "metadata": {
  "kernelspec": {
   "display_name": "Python 3 (ipykernel)",
   "language": "python",
   "name": "python3"
  },
  "language_info": {
   "codemirror_mode": {
    "name": "ipython",
    "version": 3
   },
   "file_extension": ".py",
   "mimetype": "text/x-python",
   "name": "python",
   "nbconvert_exporter": "python",
   "pygments_lexer": "ipython3",
   "version": "3.10.12"
  }
 },
 "nbformat": 4,
 "nbformat_minor": 4
}
